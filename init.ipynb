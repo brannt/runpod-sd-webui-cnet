{
 "cells": [
  {
   "cell_type": "code",
   "execution_count": 1,
   "id": "4689f654-5aa3-4551-921b-8bc2aa35838c",
   "metadata": {
    "tags": []
   },
   "outputs": [
    {
     "name": "stdout",
     "output_type": "stream",
     "text": [
      "Reading package lists... Done\n",
      "Building dependency tree       \n",
      "Reading state information... Done\n",
      "The following additional packages will be installed:\n",
      "  libaria2-0 libc-ares2 libssh2-1\n",
      "The following NEW packages will be installed:\n",
      "  aria2 libaria2-0 libc-ares2 libssh2-1\n",
      "0 upgraded, 4 newly installed, 0 to remove and 29 not upgraded.\n",
      "Need to get 1550 kB of archives.\n",
      "After this operation, 6235 kB of additional disk space will be used.\n",
      "Get:1 http://archive.ubuntu.com/ubuntu focal-updates/main amd64 libc-ares2 amd64 1.15.0-1ubuntu0.2 [36.7 kB]\n",
      "Get:2 http://archive.ubuntu.com/ubuntu focal/universe amd64 libssh2-1 amd64 1.8.0-2.1build1 [75.4 kB]\n",
      "Get:3 http://archive.ubuntu.com/ubuntu focal/universe amd64 libaria2-0 amd64 1.35.0-1build1 [1082 kB]\n",
      "Get:4 http://archive.ubuntu.com/ubuntu focal/universe amd64 aria2 amd64 1.35.0-1build1 [356 kB]\n",
      "Fetched 1550 kB in 1s (2008 kB/s)m\u001b[33m\n",
      "debconf: delaying package configuration, since apt-utils is not installed\n",
      "\n",
      "\u001b7\u001b[0;23r\u001b8\u001b[1ASelecting previously unselected package libc-ares2:amd64.\n",
      "(Reading database ... 26885 files and directories currently installed.)\n",
      "Preparing to unpack .../libc-ares2_1.15.0-1ubuntu0.2_amd64.deb ...\n",
      "\u001b7\u001b[24;0f\u001b[42m\u001b[30mProgress: [  0%]\u001b[49m\u001b[39m [..........................................................] \u001b8\u001b7\u001b[24;0f\u001b[42m\u001b[30mProgress: [  6%]\u001b[49m\u001b[39m [###.......................................................] \u001b8Unpacking libc-ares2:amd64 (1.15.0-1ubuntu0.2) ...\n",
      "\u001b7\u001b[24;0f\u001b[42m\u001b[30mProgress: [ 12%]\u001b[49m\u001b[39m [######....................................................] \u001b8Selecting previously unselected package libssh2-1:amd64.\n",
      "Preparing to unpack .../libssh2-1_1.8.0-2.1build1_amd64.deb ...\n",
      "\u001b7\u001b[24;0f\u001b[42m\u001b[30mProgress: [ 18%]\u001b[49m\u001b[39m [##########................................................] \u001b8Unpacking libssh2-1:amd64 (1.8.0-2.1build1) ...\n",
      "\u001b7\u001b[24;0f\u001b[42m\u001b[30mProgress: [ 24%]\u001b[49m\u001b[39m [#############.............................................] \u001b8Selecting previously unselected package libaria2-0:amd64.\n",
      "Preparing to unpack .../libaria2-0_1.35.0-1build1_amd64.deb ...\n",
      "\u001b7\u001b[24;0f\u001b[42m\u001b[30mProgress: [ 29%]\u001b[49m\u001b[39m [#################.........................................] \u001b8Unpacking libaria2-0:amd64 (1.35.0-1build1) ...\n",
      "\u001b7\u001b[24;0f\u001b[42m\u001b[30mProgress: [ 35%]\u001b[49m\u001b[39m [####################......................................] \u001b8Selecting previously unselected package aria2.\n",
      "Preparing to unpack .../aria2_1.35.0-1build1_amd64.deb ...\n",
      "\u001b7\u001b[24;0f\u001b[42m\u001b[30mProgress: [ 41%]\u001b[49m\u001b[39m [#######################...................................] \u001b8Unpacking aria2 (1.35.0-1build1) ...\n",
      "\u001b7\u001b[24;0f\u001b[42m\u001b[30mProgress: [ 47%]\u001b[49m\u001b[39m [###########################...............................] \u001b8Setting up libc-ares2:amd64 (1.15.0-1ubuntu0.2) ...\n",
      "\u001b7\u001b[24;0f\u001b[42m\u001b[30mProgress: [ 53%]\u001b[49m\u001b[39m [##############################............................] \u001b8\u001b7\u001b[24;0f\u001b[42m\u001b[30mProgress: [ 59%]\u001b[49m\u001b[39m [##################################........................] \u001b8Setting up libssh2-1:amd64 (1.8.0-2.1build1) ...\n",
      "\u001b7\u001b[24;0f\u001b[42m\u001b[30mProgress: [ 65%]\u001b[49m\u001b[39m [#####################################.....................] \u001b8\u001b7\u001b[24;0f\u001b[42m\u001b[30mProgress: [ 71%]\u001b[49m\u001b[39m [########################################..................] \u001b8Setting up libaria2-0:amd64 (1.35.0-1build1) ...\n",
      "\u001b7\u001b[24;0f\u001b[42m\u001b[30mProgress: [ 76%]\u001b[49m\u001b[39m [############################################..............] \u001b8\u001b7\u001b[24;0f\u001b[42m\u001b[30mProgress: [ 82%]\u001b[49m\u001b[39m [###############################################...........] \u001b8Setting up aria2 (1.35.0-1build1) ...\n",
      "\u001b7\u001b[24;0f\u001b[42m\u001b[30mProgress: [ 88%]\u001b[49m\u001b[39m [###################################################.......] \u001b8\u001b7\u001b[24;0f\u001b[42m\u001b[30mProgress: [ 94%]\u001b[49m\u001b[39m [######################################################....] \u001b8Processing triggers for libc-bin (2.31-0ubuntu9.9) ...\n",
      "\n",
      "\u001b7\u001b[0;24r\u001b8\u001b[1A\u001b[J"
     ]
    }
   ],
   "source": [
    "!apt install -y aria2"
   ]
  },
  {
   "cell_type": "code",
   "execution_count": 3,
   "id": "868cc38c-c251-4582-9780-c26025278825",
   "metadata": {
    "tags": []
   },
   "outputs": [
    {
     "data": {
      "application/vnd.jupyter.widget-view+json": {
       "model_id": "de29be71f9384b6fb5456920087adcd0",
       "version_major": 2,
       "version_minor": 0
      },
      "text/plain": [
       "interactive(children=(Checkbox(value=True, description='Deliberate v2'), Checkbox(value=True, description='Dre…"
      ]
     },
     "metadata": {},
     "output_type": "display_data"
    },
    {
     "data": {
      "application/vnd.jupyter.widget-view+json": {
       "model_id": "b4715a13576348cdb1b0b51d5c612862",
       "version_major": 2,
       "version_minor": 0
      },
      "text/plain": [
       "interactive(children=(Checkbox(value=True, description='FastNegativeEmbedding'), Checkbox(value=True, descript…"
      ]
     },
     "metadata": {},
     "output_type": "display_data"
    },
    {
     "data": {
      "application/vnd.jupyter.widget-view+json": {
       "model_id": "fa20507c1db54b7f860ae7deb5c048d7",
       "version_major": 2,
       "version_minor": 0
      },
      "text/plain": [
       "interactive(children=(Checkbox(value=True, description='stable-diffusion-webui-images-browser'), Checkbox(valu…"
      ]
     },
     "metadata": {},
     "output_type": "display_data"
    },
    {
     "data": {
      "application/vnd.jupyter.widget-view+json": {
       "model_id": "d79b8906d8484de29734c02861e6627a",
       "version_major": 2,
       "version_minor": 0
      },
      "text/plain": [
       "interactive(children=(Checkbox(value=True, description='control_v11p_sd15_canny_fp16.safetensors'), Checkbox(v…"
      ]
     },
     "metadata": {},
     "output_type": "display_data"
    }
   ],
   "source": [
    "from pathlib import Path\n",
    "SD_PATH = Path('/workspace/stable-diffusion-webui/')\n",
    "\n",
    "\n",
    "MODELS_PATH = SD_PATH / 'models' / 'Stable-diffusion'\n",
    "MODELS = {\n",
    "    \"Deliberate v2\": \"https://huggingface.co/XpucT/Deliberate/resolve/main/Deliberate_v2.safetensors\",\n",
    "    \"DreamShaper 6 baked vae\": (\"https://civitai.com/api/download/models/78164?type=Model&format=SafeTensor&size=pruned&fp=fp16\", \"DreamShaper_6_baked_vae.safetensors\"),\n",
    "    \"PerfectDeliberate\": (\"https://civitai.com/api/download/models/67569?type=Model&format=SafeTensor&size=full&fp=fp32\", \"PerfectDeliberate.safetensors\"),\n",
    "}\n",
    "\n",
    "EMBEDDINGS_PATH = SD_PATH / 'embeddings'\n",
    "EMBEDDINGS = {\n",
    "    \"FastNegativeEmbedding\": \"https://huggingface.co/Lykon/DreamShaper/resolve/main/FastNegativeEmbedding.pt\",\n",
    "    \"BadDream\": \"https://huggingface.co/Lykon/DreamShaper/resolve/main/BadDream.pt\",\n",
    "    \"UnrealisticDream\": \"https://huggingface.co/Lykon/DreamShaper/resolve/main/UnrealisticDream.pt\",\n",
    "    \"EasyNegative\": \"https://huggingface.co/embed/negative/resolve/main/EasyNegative.pt\",\n",
    "    \"ng_deepnegative_v1_75t\": \"https://huggingface.co/embed/negative/resolve/main/ng_deepnegative_v1_75t.pt\",\n",
    "}\n",
    "\n",
    "EXTENSIONS_PATH = SD_PATH / 'extensions' \n",
    "EXTENSIONS = {\n",
    "    \"stable-diffusion-webui-images-browser\": \"https://github.com/camenduru/stable-diffusion-webui-images-browser\",\n",
    "    \"stable-diffusion-webui-huggingface\": \"https://github.com/camenduru/stable-diffusion-webui-huggingface\",\n",
    "    \"sd-civitai-browser\": \"https://github.com/camenduru/sd-civitai-browser\",\n",
    "    \"sd-webui-additional-networks\": \"https://github.com/kohya-ss/sd-webui-additional-networks\",\n",
    "    \"sd-webui-controlnet\": \"https://github.com/Mikubill/sd-webui-controlnet\",\n",
    "    \"openpose-editor\": \"https://github.com/fkunn1326/openpose-editor\",\n",
    "    \"sd-webui-depth-lib\": \"https://github.com/jexom/sd-webui-depth-lib\",\n",
    "    \"posex\": \"https://github.com/hnmr293/posex\",\n",
    "    \"sd-webui-3d-open-pose-editor\": \"https://github.com/nonnonstop/sd-webui-3d-open-pose-editor\",\n",
    "    \"sd-webui-tunnels\": \"https://github.com/camenduru/sd-webui-tunnels\",\n",
    "    \"batchlinks-webui\": \"https://github.com/etherealxx/batchlinks-webui\",\n",
    "    \"stable-diffusion-webui-catppuccin\": \"https://github.com/camenduru/stable-diffusion-webui-catppuccin\",\n",
    "    \"a1111-sd-webui-locon\": \"https://github.com/camenduru/a1111-sd-webui-locon\",\n",
    "    \"stable-diffusion-webui-rembg\": \"https://github.com/AUTOMATIC1111/stable-diffusion-webui-rembg\",\n",
    "    \"stable-diffusion-webui-two-shot\": \"https://github.com/ashen-sensored/stable-diffusion-webui-two-shot\",\n",
    "    \"sd_webui_stealth_pnginfo\": \"https://github.com/camenduru/sd_webui_stealth_pnginfo\",\n",
    "    \"sd-webui-aspect-ratio-helper\": \"https://github.com/thomasasfk/sd-webui-aspect-ratio-helper\",\n",
    "    \"asymmetric-tiling-sd-webui\": \"https://github.com/tjm35/asymmetric-tiling-sd-webui\",\n",
    "    \"ultimate-upscale-for-automatic111\": \"https://github.com/Coyote-A/ultimate-upscale-for-automatic1111\"\n",
    "    # SD-CN-Animation\thttps://github.com/volotat/SD-CN-Animation.git\n",
    "    # deforum-for-automatic1111-webui\thttps://github.com/deforum-art/deforum-for-automatic1111-webui.git\n",
    "}\n",
    "CONTROLNET_PATH = EXTENSIONS_PATH / 'sd-webui-controlnet'/ 'models'\n",
    "CONTROLNET_MODELS = {\n",
    "    # \"control_v11e_sd15_ip2p_fp16.safetensors\": \"https://huggingface.co/ckpt/ControlNet-v1-1/resolve/main/control_v11e_sd15_ip2p_fp16.safetensors\", \n",
    "    # \"control_v11e_sd15_shuffle_fp16.safetensors\": \"https://huggingface.co/ckpt/ControlNet-v1-1/resolve/main/control_v11e_sd15_shuffle_fp16.safetensors\", \n",
    "    \"control_v11p_sd15_canny_fp16.safetensors\": \"https://huggingface.co/ckpt/ControlNet-v1-1/resolve/main/control_v11p_sd15_canny_fp16.safetensors\", \n",
    "    \"control_v11f1p_sd15_depth_fp16.safetensors\": \"https://huggingface.co/ckpt/ControlNet-v1-1/resolve/main/control_v11f1p_sd15_depth_fp16.safetensors\", \n",
    "    \"control_v11p_sd15_inpaint_fp16.safetensors\": \"https://huggingface.co/ckpt/ControlNet-v1-1/resolve/main/control_v11p_sd15_inpaint_fp16.safetensors\", \n",
    "    \"control_v11p_sd15_lineart_fp16.safetensors\": \"https://huggingface.co/ckpt/ControlNet-v1-1/resolve/main/control_v11p_sd15_lineart_fp16.safetensors\", \n",
    "    # \"control_v11p_sd15_mlsd_fp16.safetensors\": \"https://huggingface.co/ckpt/ControlNet-v1-1/resolve/main/control_v11p_sd15_mlsd_fp16.safetensors\", \n",
    "    # \"control_v11p_sd15_normalbae_fp16.safetensors\": \"https://huggingface.co/ckpt/ControlNet-v1-1/resolve/main/control_v11p_sd15_normalbae_fp16.safetensors\", \n",
    "    \"control_v11p_sd15_openpose_fp16.safetensors\": \"https://huggingface.co/ckpt/ControlNet-v1-1/resolve/main/control_v11p_sd15_openpose_fp16.safetensors\", \n",
    "    \"control_v11p_sd15_scribble_fp16.safetensors\": \"https://huggingface.co/ckpt/ControlNet-v1-1/resolve/main/control_v11p_sd15_scribble_fp16.safetensors\", \n",
    "    # \"control_v11p_sd15_seg_fp16.safetensors\": \"https://huggingface.co/ckpt/ControlNet-v1-1/resolve/main/control_v11p_sd15_seg_fp16.safetensors\", \n",
    "    \"control_v11p_sd15_softedge_fp16.safetensors\": \"https://huggingface.co/ckpt/ControlNet-v1-1/resolve/main/control_v11p_sd15_softedge_fp16.safetensors\", \n",
    "    \"control_v11p_sd15s2_lineart_anime_fp16.safetensors\": \"https://huggingface.co/ckpt/ControlNet-v1-1/resolve/main/control_v11p_sd15s2_lineart_anime_fp16.safetensors\", \n",
    "    \"control_v11f1e_sd15_tile_fp16.safetensors\": \"https://huggingface.co/ckpt/ControlNet-v1-1/resolve/main/control_v11f1e_sd15_tile_fp16.safetensors\", \n",
    "    # \"control_v11e_sd15_ip2p_fp16.yaml\": \"https://huggingface.co/ckpt/ControlNet-v1-1/raw/main/control_v11e_sd15_ip2p_fp16.yaml\", \n",
    "    # \"control_v11e_sd15_shuffle_fp16.yaml\": \"https://huggingface.co/ckpt/ControlNet-v1-1/raw/main/control_v11e_sd15_shuffle_fp16.yaml\", \n",
    "    \"control_v11p_sd15_canny_fp16.yaml\": \"https://huggingface.co/ckpt/ControlNet-v1-1/raw/main/control_v11p_sd15_canny_fp16.yaml\", \n",
    "    \"control_v11f1p_sd15_depth_fp16.yaml\": \"https://huggingface.co/ckpt/ControlNet-v1-1/raw/main/control_v11f1p_sd15_depth_fp16.yaml\", \n",
    "    \"control_v11p_sd15_inpaint_fp16.yaml\": \"https://huggingface.co/ckpt/ControlNet-v1-1/raw/main/control_v11p_sd15_inpaint_fp16.yaml\", \n",
    "    \"control_v11p_sd15_lineart_fp16.yaml\": \"https://huggingface.co/ckpt/ControlNet-v1-1/raw/main/control_v11p_sd15_lineart_fp16.yaml\", \n",
    "    # \"control_v11p_sd15_mlsd_fp16.yaml\": \"https://huggingface.co/ckpt/ControlNet-v1-1/raw/main/control_v11p_sd15_mlsd_fp16.yaml\", \n",
    "    # \"control_v11p_sd15_normalbae_fp16.yaml\": \"https://huggingface.co/ckpt/ControlNet-v1-1/raw/main/control_v11p_sd15_normalbae_fp16.yaml\", \n",
    "    \"control_v11p_sd15_openpose_fp16.yaml\": \"https://huggingface.co/ckpt/ControlNet-v1-1/raw/main/control_v11p_sd15_openpose_fp16.yaml\", \n",
    "    \"control_v11p_sd15_scribble_fp16.yaml\": \"https://huggingface.co/ckpt/ControlNet-v1-1/raw/main/control_v11p_sd15_scribble_fp16.yaml\", \n",
    "    # \"control_v11p_sd15_seg_fp16.yaml\": \"https://huggingface.co/ckpt/ControlNet-v1-1/raw/main/control_v11p_sd15_seg_fp16.yaml\", \n",
    "    \"control_v11p_sd15_softedge_fp16.yaml\": \"https://huggingface.co/ckpt/ControlNet-v1-1/raw/main/control_v11p_sd15_softedge_fp16.yaml\", \n",
    "    \"control_v11p_sd15s2_lineart_anime_fp16.yaml\": \"https://huggingface.co/ckpt/ControlNet-v1-1/raw/main/control_v11p_sd15s2_lineart_anime_fp16.yaml\", \n",
    "    \"control_v11f1e_sd15_tile_fp16.yaml\": \"https://huggingface.co/ckpt/ControlNet-v1-1/raw/main/control_v11f1e_sd15_tile_fp16.yaml\", \n",
    "    # \"t2iadapter_style_sd14v1.pth\": \"https://huggingface.co/ckpt/ControlNet-v1-1/resolve/main/t2iadapter_style_sd14v1.pth\", \n",
    "    # \"t2iadapter_sketch_sd14v1.pth\": \"https://huggingface.co/ckpt/ControlNet-v1-1/resolve/main/t2iadapter_sketch_sd14v1.pth\", \n",
    "    # \"t2iadapter_seg_sd14v1.pth\": \"https://huggingface.co/ckpt/ControlNet-v1-1/resolve/main/t2iadapter_seg_sd14v1.pth\", \n",
    "    # \"t2iadapter_openpose_sd14v1.pth\": \"https://huggingface.co/ckpt/ControlNet-v1-1/resolve/main/t2iadapter_openpose_sd14v1.pth\", \n",
    "    # \"t2iadapter_keypose_sd14v1.pth\": \"https://huggingface.co/ckpt/ControlNet-v1-1/resolve/main/t2iadapter_keypose_sd14v1.pth\", \n",
    "    # \"t2iadapter_depth_sd14v1.pth\": \"https://huggingface.co/ckpt/ControlNet-v1-1/resolve/main/t2iadapter_depth_sd14v1.pth\", \n",
    "    # \"t2iadapter_color_sd14v1.pth\": \"https://huggingface.co/ckpt/ControlNet-v1-1/resolve/main/t2iadapter_color_sd14v1.pth\", \n",
    "    # \"t2iadapter_canny_sd14v1.pth\": \"https://huggingface.co/ckpt/ControlNet-v1-1/resolve/main/t2iadapter_canny_sd14v1.pth\", \n",
    "    # \"t2iadapter_canny_sd15v2.pth\": \"https://huggingface.co/ckpt/ControlNet-v1-1/resolve/main/t2iadapter_canny_sd15v2.pth\", \n",
    "    # \"t2iadapter_depth_sd15v2.pth\": \"https://huggingface.co/ckpt/ControlNet-v1-1/resolve/main/t2iadapter_depth_sd15v2.pth\", \n",
    "    # \"t2iadapter_sketch_sd15v2.pth\": \"https://huggingface.co/ckpt/ControlNet-v1-1/resolve/main/t2iadapter_sketch_sd15v2.pth\", \n",
    "    # \"t2iadapter_zoedepth_sd15v1.pth\": \"https://huggingface.co/ckpt/ControlNet-v1-1/resolve/main/t2iadapter_zoedepth_sd15v1.pth\", \n",
    "}\n",
    "\n",
    "import subprocess\n",
    "from ipywidgets import interact_manual\n",
    "\n",
    "def aria2_download(uri, dirname):\n",
    "    if isinstance(uri, tuple):\n",
    "        uri, filename = uri\n",
    "    else:\n",
    "        filename = uri.split('/')[-1]\n",
    "    !set -o xtrace && aria2c --console-log-level=error -c -x 16 -s 16 -k 1M \"{uri}\" -d \"{dirname}\" -o \"{filename}\"\n",
    "    \n",
    "def git_clone(uri, dirname):\n",
    "    dirname = dirname / uri.split('/')[-1]\n",
    "    !set -o xtrace && git clone \"{uri}\" \"{dirname}\"\n",
    "    \n",
    "class Downloader:\n",
    "    def __init__(self, name, uris, download_dir, download_fn=aria2_download):\n",
    "        self.__name__ = name\n",
    "        self._uris = uris\n",
    "        self._download_dir = download_dir\n",
    "        self._download_fn = download_fn\n",
    "        \n",
    "    def run(self, **to_download):\n",
    "        for f in to_download:\n",
    "            if not to_download[f]:\n",
    "                continue\n",
    "            uri = self._uris[f]\n",
    "            self._download_fn(uri, self._download_dir)\n",
    "            \n",
    "    def interactive(self):\n",
    "        interact_manual(self.run, **{k: True for k in self._uris})\n",
    "        return self\n",
    "\n",
    "MODEL_DOWNLOADER = Downloader(\"Models\", MODELS, MODELS_PATH).interactive()\n",
    "\n",
    "EMBEDDING_DOWNLOADER = Downloader(\"Embeddings\", EMBEDDINGS, EMBEDDINGS_PATH).interactive()\n",
    "\n",
    "EXTENSIONS_DOWNLOADER = Downloader(\"Extensions\", EXTENSIONS, EXTENSIONS_PATH, download_fn=git_clone).interactive()\n",
    "\n",
    "CONTROLNET_DOWNLOADER = Downloader(\"ControlNet\", CONTROLNET_MODELS, CONTROLNET_PATH).interactive()\n",
    "            "
   ]
  },
  {
   "cell_type": "code",
   "execution_count": null,
   "id": "1ae90e94-769e-4b7f-8d46-93afbd19d323",
   "metadata": {},
   "outputs": [],
   "source": []
  }
 ],
 "metadata": {
  "kernelspec": {
   "display_name": "Python 3 (ipykernel)",
   "language": "python",
   "name": "python3"
  },
  "language_info": {
   "codemirror_mode": {
    "name": "ipython",
    "version": 3
   },
   "file_extension": ".py",
   "mimetype": "text/x-python",
   "name": "python",
   "nbconvert_exporter": "python",
   "pygments_lexer": "ipython3",
   "version": "3.10.10"
  }
 },
 "nbformat": 4,
 "nbformat_minor": 5
}
