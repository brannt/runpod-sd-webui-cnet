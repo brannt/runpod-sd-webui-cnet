{
 "cells": [
  {
   "cell_type": "code",
   "execution_count": 2,
   "id": "4689f654-5aa3-4551-921b-8bc2aa35838c",
   "metadata": {
    "tags": []
   },
   "outputs": [
    {
     "name": "stdout",
     "output_type": "stream",
     "text": [
      "Hit:1 http://archive.ubuntu.com/ubuntu jammy InRelease\n",
      "Hit:2 http://archive.ubuntu.com/ubuntu jammy-updates InRelease                 \n",
      "Hit:3 http://archive.ubuntu.com/ubuntu jammy-backports InRelease               \n",
      "Hit:4 https://ppa.launchpadcontent.net/deadsnakes/ppa/ubuntu jammy InRelease   \n",
      "Hit:5 https://developer.download.nvidia.com/compute/cuda/repos/ubuntu2204/x86_64  InRelease\n",
      "Hit:6 http://security.ubuntu.com/ubuntu jammy-security InRelease           \n",
      "Reading package lists... Done\n",
      "Reading package lists... Done\n",
      "Building dependency tree... Done\n",
      "Reading state information... Done\n",
      "aria2 is already the newest version (1.36.0-1).\n",
      "0 upgraded, 0 newly installed, 0 to remove and 18 not upgraded.\n",
      "Requirement already satisfied: mutagen in ./venv/lib/python3.10/site-packages (1.47.0)\n",
      "Requirement already satisfied: moviepy in ./venv/lib/python3.10/site-packages (1.0.3)\n",
      "Collecting rembg\n",
      "  Downloading rembg-2.0.50-py3-none-any.whl (26 kB)\n",
      "Requirement already satisfied: imageio-ffmpeg>=0.2.0 in ./venv/lib/python3.10/site-packages (from moviepy) (0.4.8)\n",
      "Requirement already satisfied: numpy>=1.17.3 in ./venv/lib/python3.10/site-packages (from moviepy) (1.23.5)\n",
      "Requirement already satisfied: imageio<3.0,>=2.5 in ./venv/lib/python3.10/site-packages (from moviepy) (2.31.2)\n",
      "Requirement already satisfied: tqdm<5.0,>=4.11.2 in ./venv/lib/python3.10/site-packages (from moviepy) (4.66.1)\n",
      "Requirement already satisfied: requests<3.0,>=2.8.1 in ./venv/lib/python3.10/site-packages (from moviepy) (2.31.0)\n",
      "Requirement already satisfied: decorator<5.0,>=4.0.2 in ./venv/lib/python3.10/site-packages (from moviepy) (4.4.2)\n",
      "Requirement already satisfied: proglog<=1.0.0 in ./venv/lib/python3.10/site-packages (from moviepy) (0.1.10)\n",
      "Collecting opencv-python-headless\n",
      "  Downloading opencv_python_headless-4.8.1.78-cp37-abi3-manylinux_2_17_x86_64.manylinux2014_x86_64.whl (49.1 MB)\n",
      "\u001b[2K     \u001b[90m━━━━━━━━━━━━━━━━━━━━━━━━━━━━━━━━━━━━━━━━\u001b[0m \u001b[32m49.1/49.1 MB\u001b[0m \u001b[31m49.0 MB/s\u001b[0m eta \u001b[36m0:00:00\u001b[0m00:01\u001b[0m00:01\u001b[0m\n",
      "\u001b[?25hCollecting onnxruntime\n",
      "  Downloading onnxruntime-1.16.0-cp310-cp310-manylinux_2_17_x86_64.manylinux2014_x86_64.whl (6.2 MB)\n",
      "\u001b[2K     \u001b[90m━━━━━━━━━━━━━━━━━━━━━━━━━━━━━━━━━━━━━━━━\u001b[0m \u001b[32m6.2/6.2 MB\u001b[0m \u001b[31m78.9 MB/s\u001b[0m eta \u001b[36m0:00:00\u001b[0m:00:01\u001b[0m00:01\u001b[0m\n",
      "\u001b[?25hRequirement already satisfied: scipy in ./venv/lib/python3.10/site-packages (from rembg) (1.11.2)\n",
      "Collecting pymatting\n",
      "  Downloading PyMatting-1.1.8-py3-none-any.whl (47 kB)\n",
      "\u001b[2K     \u001b[90m━━━━━━━━━━━━━━━━━━━━━━━━━━━━━━━━━━━━━━━━\u001b[0m \u001b[32m47.7/47.7 KB\u001b[0m \u001b[31m5.0 MB/s\u001b[0m eta \u001b[36m0:00:00\u001b[0m\n",
      "\u001b[?25hRequirement already satisfied: pillow in ./venv/lib/python3.10/site-packages (from rembg) (9.5.0)\n",
      "Collecting pooch\n",
      "  Downloading pooch-1.7.0-py3-none-any.whl (60 kB)\n",
      "\u001b[2K     \u001b[90m━━━━━━━━━━━━━━━━━━━━━━━━━━━━━━━━━━━━━━━━\u001b[0m \u001b[32m60.9/60.9 KB\u001b[0m \u001b[31m6.2 MB/s\u001b[0m eta \u001b[36m0:00:00\u001b[0m\n",
      "\u001b[?25hRequirement already satisfied: scikit-image in ./venv/lib/python3.10/site-packages (from rembg) (0.21.0)\n",
      "Requirement already satisfied: urllib3<3,>=1.21.1 in ./venv/lib/python3.10/site-packages (from requests<3.0,>=2.8.1->moviepy) (1.26.16)\n",
      "Requirement already satisfied: idna<4,>=2.5 in ./venv/lib/python3.10/site-packages (from requests<3.0,>=2.8.1->moviepy) (3.4)\n",
      "Requirement already satisfied: certifi>=2017.4.17 in ./venv/lib/python3.10/site-packages (from requests<3.0,>=2.8.1->moviepy) (2023.7.22)\n",
      "Requirement already satisfied: charset-normalizer<4,>=2 in ./venv/lib/python3.10/site-packages (from requests<3.0,>=2.8.1->moviepy) (3.2.0)\n",
      "Requirement already satisfied: flatbuffers in ./venv/lib/python3.10/site-packages (from onnxruntime->rembg) (23.5.26)\n",
      "Requirement already satisfied: sympy in ./venv/lib/python3.10/site-packages (from onnxruntime->rembg) (1.11.1)\n",
      "Requirement already satisfied: protobuf in ./venv/lib/python3.10/site-packages (from onnxruntime->rembg) (3.20.0)\n",
      "Collecting coloredlogs\n",
      "  Downloading coloredlogs-15.0.1-py2.py3-none-any.whl (46 kB)\n",
      "\u001b[2K     \u001b[90m━━━━━━━━━━━━━━━━━━━━━━━━━━━━━━━━━━━━━━━━\u001b[0m \u001b[32m46.0/46.0 KB\u001b[0m \u001b[31m4.8 MB/s\u001b[0m eta \u001b[36m0:00:00\u001b[0m\n",
      "\u001b[?25hRequirement already satisfied: packaging in ./venv/lib/python3.10/site-packages (from onnxruntime->rembg) (23.1)\n",
      "Requirement already satisfied: platformdirs>=2.5.0 in ./venv/lib/python3.10/site-packages (from pooch->rembg) (3.10.0)\n",
      "Requirement already satisfied: numba!=0.49.0 in ./venv/lib/python3.10/site-packages (from pymatting->rembg) (0.57.1)\n",
      "Requirement already satisfied: networkx>=2.8 in ./venv/lib/python3.10/site-packages (from scikit-image->rembg) (3.0)\n",
      "Requirement already satisfied: PyWavelets>=1.1.1 in ./venv/lib/python3.10/site-packages (from scikit-image->rembg) (1.4.1)\n",
      "Requirement already satisfied: tifffile>=2022.8.12 in ./venv/lib/python3.10/site-packages (from scikit-image->rembg) (2023.8.30)\n",
      "Requirement already satisfied: lazy_loader>=0.2 in ./venv/lib/python3.10/site-packages (from scikit-image->rembg) (0.3)\n",
      "Requirement already satisfied: llvmlite<0.41,>=0.40.0dev0 in ./venv/lib/python3.10/site-packages (from numba!=0.49.0->pymatting->rembg) (0.40.1)\n",
      "Collecting humanfriendly>=9.1\n",
      "  Downloading humanfriendly-10.0-py2.py3-none-any.whl (86 kB)\n",
      "\u001b[2K     \u001b[90m━━━━━━━━━━━━━━━━━━━━━━━━━━━━━━━━━━━━━━━━\u001b[0m \u001b[32m86.8/86.8 KB\u001b[0m \u001b[31m10.4 MB/s\u001b[0m eta \u001b[36m0:00:00\u001b[0m\n",
      "\u001b[?25hRequirement already satisfied: mpmath>=0.19 in ./venv/lib/python3.10/site-packages (from sympy->onnxruntime->rembg) (1.2.1)\n",
      "Installing collected packages: opencv-python-headless, humanfriendly, pymatting, pooch, coloredlogs, onnxruntime, rembg\n",
      "Successfully installed coloredlogs-15.0.1 humanfriendly-10.0 onnxruntime-1.16.0 opencv-python-headless-4.8.1.78 pooch-1.7.0 pymatting-1.1.8 rembg-2.0.50\n"
     ]
    }
   ],
   "source": [
    "!apt-get update\n",
    "!apt install -y aria2\n",
    "!pip install mutagen moviepy rembg\n",
    "#!apt install -н libegl1-mesa\n",
    "#!pip install trimesh rembg pymovie vispy"
   ]
  },
  {
   "cell_type": "code",
   "execution_count": 8,
   "id": "868cc38c-c251-4582-9780-c26025278825",
   "metadata": {
    "tags": []
   },
   "outputs": [
    {
     "data": {
      "application/vnd.jupyter.widget-view+json": {
       "model_id": "4ccdb8820f5345edacca21353254e323",
       "version_major": 2,
       "version_minor": 0
      },
      "text/plain": [
       "interactive(children=(Checkbox(value=True, description='Deliberate_v3.safetensors'), Checkbox(value=True, desc…"
      ]
     },
     "metadata": {},
     "output_type": "display_data"
    },
    {
     "data": {
      "application/vnd.jupyter.widget-view+json": {
       "model_id": "df12486af8e443268683ea5d52b240a0",
       "version_major": 2,
       "version_minor": 0
      },
      "text/plain": [
       "interactive(children=(Checkbox(value=True, description='FastNegativeEmbedding.pt'), Checkbox(value=True, descr…"
      ]
     },
     "metadata": {},
     "output_type": "display_data"
    },
    {
     "data": {
      "application/vnd.jupyter.widget-view+json": {
       "model_id": "8b94113f54c548b6a8942e850506bf6a",
       "version_major": 2,
       "version_minor": 0
      },
      "text/plain": [
       "interactive(children=(Checkbox(value=True, description='stable-diffusion-webui-images-browser'), Checkbox(valu…"
      ]
     },
     "metadata": {},
     "output_type": "display_data"
    },
    {
     "data": {
      "application/vnd.jupyter.widget-view+json": {
       "model_id": "51e9b37c79f54a1d97437703df594575",
       "version_major": 2,
       "version_minor": 0
      },
      "text/plain": [
       "interactive(children=(Checkbox(value=True, description='control_v11p_sd15_openpose_fp16.yaml'), Checkbox(value…"
      ]
     },
     "metadata": {},
     "output_type": "display_data"
    },
    {
     "data": {
      "application/vnd.jupyter.widget-view+json": {
       "model_id": "4cbd189a6e0243ad827cd8c25e6f5798",
       "version_major": 2,
       "version_minor": 0
      },
      "text/plain": [
       "interactive(children=(Checkbox(value=True, description='animatediff_v2.safetensors'), Checkbox(value=True, des…"
      ]
     },
     "metadata": {},
     "output_type": "display_data"
    }
   ],
   "source": [
    "from pathlib import Path\n",
    "SD_PATH = Path('/workspace/stable-diffusion-webui/')\n",
    "\n",
    "\n",
    "MODELS_PATH = SD_PATH / 'models' / 'Stable-diffusion'\n",
    "MODELS = [ \n",
    "    (\"https://civitai.com/api/download/models/156110?type=Model&format=SafeTensor&size=full&fp=fp16\", \"Deliberate_v3.safetensors\"),\n",
    "    (\"https://civitai.com/api/download/models/128713?type=Model&format=SafeTensor&size=pruned&fp=fp16\", \"DreamShaper_8.safetensors\"),\n",
    "    (\"https://civitai.com/api/download/models/67569?type=Model&format=SafeTensor&size=full&fp=fp32\", \"PerfectDeliberate.safetensors\"),\n",
    "]\n",
    "\n",
    "EMBEDDINGS_PATH = SD_PATH / 'embeddings'\n",
    "EMBEDDINGS = [\n",
    "    \"https://huggingface.co/Lykon/DreamShaper/resolve/main/FastNegativeEmbedding.pt\",\n",
    "    \"https://huggingface.co/Lykon/DreamShaper/resolve/main/BadDream.pt\",\n",
    "    \"https://huggingface.co/Lykon/DreamShaper/resolve/main/UnrealisticDream.pt\",\n",
    "    \"https://huggingface.co/embed/negative/resolve/main/EasyNegative.pt\",\n",
    "    \"https://huggingface.co/embed/negative/resolve/main/ng_deepnegative_v1_75t.pt\",\n",
    "]\n",
    "\n",
    "EXTENSIONS_PATH = SD_PATH / 'extensions' \n",
    "EXTENSIONS = [\n",
    "    \"https://github.com/camenduru/stable-diffusion-webui-images-browser\",\n",
    "    \"https://github.com/camenduru/stable-diffusion-webui-huggingface\",\n",
    "    \"https://github.com/camenduru/sd-civitai-browser\",\n",
    "    \"https://github.com/kohya-ss/sd-webui-additional-networks\",\n",
    "    \"https://github.com/Mikubill/sd-webui-controlnet\",\n",
    "#     \"https://github.com/fkunn1326/openpose-editor\",\n",
    "#    \"https://github.com/jexom/sd-webui-depth-lib\",\n",
    "#     \"https://github.com/hnmr293/posex\",\n",
    "#     \"https://github.com/nonnonstop/sd-webui-3d-open-pose-editor\",\n",
    "#    \"https://github.com/camenduru/sd-webui-tunnels\",\n",
    "    \"https://github.com/etherealxx/batchlinks-webui\",\n",
    "#     \"https://github.com/camenduru/stable-diffusion-webui-catppuccin\",\n",
    "#     \"https://github.com/camenduru/a1111-sd-webui-locon\",\n",
    "    \"https://github.com/AUTOMATIC1111/stable-diffusion-webui-rembg\",\n",
    "    \"https://github.com/ashen-sensored/stable-diffusion-webui-two-shot\",\n",
    "    \"https://github.com/camenduru/sd_webui_stealth_pnginfo\",\n",
    "    \"https://github.com/thomasasfk/sd-webui-aspect-ratio-helper\",\n",
    "    \"https://github.com/tjm35/asymmetric-tiling-sd-webui\",\n",
    "    \"https://github.com/Coyote-A/ultimate-upscale-for-automatic1111\",\n",
    "    \"https://github.com/volotat/SD-CN-Animation.git\",\n",
    "#    \"https://github.com/deforum-art/deforum-for-automatic1111-webui\",\n",
    "    \"https://github.com/CiaraStrawberry/TemporalKit\",\n",
    "    \"https://github.com/thygate/stable-diffusion-webui-depthmap-script\",\n",
    "    \"https://github.com/Scholar01/sd-webui-mov2mov\",\n",
    "    \"https://github.com/DominikDoom/a1111-sd-webui-tagcomplete\",\n",
    "    \"https://github.com/hako-mikan/sd-webui-regional-prompter\",\n",
    "    \"https://github.com/Bing-su/adetailer\",\n",
    "    \"https://github.com/continue-revolution/sd-webui-animatediff\",\n",
    "    \"https://github.com/kabachuha/sd-webui-text2video\",\n",
    "]\n",
    "CONTROLNET_PATH = EXTENSIONS_PATH / 'sd-webui-controlnet'/ 'models'\n",
    "CONTROLNET_MODELS = {\n",
    "#     \"https://huggingface.co/ckpt/ControlNet-v1-1/resolve/main/control_v11e_sd15_ip2p_fp16.safetensors\", \n",
    "#     \"https://huggingface.co/ckpt/ControlNet-v1-1/resolve/main/control_v11e_sd15_shuffle_fp16.safetensors\", \n",
    "    \"https://huggingface.co/ckpt/ControlNet-v1-1/resolve/main/control_v11p_sd15_canny_fp16.safetensors\", \n",
    "    \"https://huggingface.co/ckpt/ControlNet-v1-1/resolve/main/control_v11f1p_sd15_depth_fp16.safetensors\", \n",
    "#     \"https://huggingface.co/ckpt/ControlNet-v1-1/resolve/main/control_v11p_sd15_inpaint_fp16.safetensors\", \n",
    "    \"https://huggingface.co/ckpt/ControlNet-v1-1/resolve/main/control_v11p_sd15_lineart_fp16.safetensors\", \n",
    "#     \"https://huggingface.co/ckpt/ControlNet-v1-1/resolve/main/control_v11p_sd15_mlsd_fp16.safetensors\", \n",
    "#     \"https://huggingface.co/ckpt/ControlNet-v1-1/resolve/main/control_v11p_sd15_normalbae_fp16.safetensors\", \n",
    "    \"https://huggingface.co/ckpt/ControlNet-v1-1/resolve/main/control_v11p_sd15_openpose_fp16.safetensors\", \n",
    "    \"https://huggingface.co/ckpt/ControlNet-v1-1/resolve/main/control_v11p_sd15_scribble_fp16.safetensors\", \n",
    "    \"https://huggingface.co/ckpt/ControlNet-v1-1/resolve/main/control_v11p_sd15_seg_fp16.safetensors\", \n",
    "    \"https://huggingface.co/ckpt/ControlNet-v1-1/resolve/main/control_v11p_sd15_softedge_fp16.safetensors\", \n",
    "    \"https://huggingface.co/ckpt/ControlNet-v1-1/resolve/main/control_v11p_sd15s2_lineart_anime_fp16.safetensors\", \n",
    "    \"https://huggingface.co/ckpt/ControlNet-v1-1/resolve/main/control_v11f1e_sd15_tile_fp16.safetensors\", \n",
    "#     \"https://huggingface.co/ckpt/ControlNet-v1-1/raw/main/control_v11e_sd15_ip2p_fp16.yaml\", \n",
    "#     \"https://huggingface.co/ckpt/ControlNet-v1-1/raw/main/control_v11e_sd15_shuffle_fp16.yaml\", \n",
    "    \"https://huggingface.co/ckpt/ControlNet-v1-1/raw/main/control_v11p_sd15_canny_fp16.yaml\", \n",
    "    \"https://huggingface.co/ckpt/ControlNet-v1-1/raw/main/control_v11f1p_sd15_depth_fp16.yaml\", \n",
    "#     \"https://huggingface.co/ckpt/ControlNet-v1-1/raw/main/control_v11p_sd15_inpaint_fp16.yaml\", \n",
    "    \"https://huggingface.co/ckpt/ControlNet-v1-1/raw/main/control_v11p_sd15_lineart_fp16.yaml\", \n",
    "#     \"https://huggingface.co/ckpt/ControlNet-v1-1/raw/main/control_v11p_sd15_mlsd_fp16.yaml\", \n",
    "#     \"https://huggingface.co/ckpt/ControlNet-v1-1/raw/main/control_v11p_sd15_normalbae_fp16.yaml\", \n",
    "    \"https://huggingface.co/ckpt/ControlNet-v1-1/raw/main/control_v11p_sd15_openpose_fp16.yaml\", \n",
    "    \"https://huggingface.co/ckpt/ControlNet-v1-1/raw/main/control_v11p_sd15_scribble_fp16.yaml\", \n",
    "    \"https://huggingface.co/ckpt/ControlNet-v1-1/raw/main/control_v11p_sd15_seg_fp16.yaml\", \n",
    "    \"https://huggingface.co/ckpt/ControlNet-v1-1/raw/main/control_v11p_sd15_softedge_fp16.yaml\", \n",
    "    \"https://huggingface.co/ckpt/ControlNet-v1-1/raw/main/control_v11p_sd15s2_lineart_anime_fp16.yaml\", \n",
    "    \"https://huggingface.co/ckpt/ControlNet-v1-1/raw/main/control_v11f1e_sd15_tile_fp16.yaml\", \n",
    "    \"https://huggingface.co/monster-labs/control_v1p_sd15_qrcode_monster/resolve/main/v2/control_v1p_sd15_qrcode_monster_v2.safetensors\",\n",
    "    \"https://huggingface.co/monster-labs/control_v1p_sd15_qrcode_monster/resolve/main/v2/control_v1p_sd15_qrcode_monster_v2.yaml\",\n",
    "#     \"https://huggingface.co/ckpt/ControlNet-v1-1/resolve/main/t2iadapter_style_sd14v1.pth\", \n",
    "#     \"https://huggingface.co/ckpt/ControlNet-v1-1/resolve/main/t2iadapter_sketch_sd14v1.pth\", \n",
    "#     \"https://huggingface.co/ckpt/ControlNet-v1-1/resolve/main/t2iadapter_seg_sd14v1.pth\", \n",
    "#     \"https://huggingface.co/ckpt/ControlNet-v1-1/resolve/main/t2iadapter_openpose_sd14v1.pth\", \n",
    "#     \"https://huggingface.co/ckpt/ControlNet-v1-1/resolve/main/t2iadapter_keypose_sd14v1.pth\", \n",
    "#     \"https://huggingface.co/ckpt/ControlNet-v1-1/resolve/main/t2iadapter_depth_sd14v1.pth\", \n",
    "#     \"https://huggingface.co/ckpt/ControlNet-v1-1/resolve/main/t2iadapter_color_sd14v1.pth\", \n",
    "#     \"https://huggingface.co/ckpt/ControlNet-v1-1/resolve/main/t2iadapter_canny_sd14v1.pth\", \n",
    "#     \"https://huggingface.co/ckpt/ControlNet-v1-1/resolve/main/t2iadapter_canny_sd15v2.pth\", \n",
    "#     \"https://huggingface.co/ckpt/ControlNet-v1-1/resolve/main/t2iadapter_depth_sd15v2.pth\", \n",
    "#     \"https://huggingface.co/ckpt/ControlNet-v1-1/resolve/main/t2iadapter_sketch_sd15v2.pth\", \n",
    "#     \"https://huggingface.co/ckpt/ControlNet-v1-1/resolve/main/t2iadapter_zoedepth_sd15v1.pth\", \n",
    "}\n",
    "\n",
    "ANIMATEDIFF_PATH = EXTENSIONS_PATH / 'sd-webui-animatediff'/ 'model'\n",
    "ANIMATEDIFF_MODULES = [\n",
    "    (\"https://civitai.com/api/download/models/159987\", \"animatediff_v2.ckpt\"),\n",
    "    (\"https://civitai.com/api/download/models/160418\", \"TemporalDiff v1.0.ckpt\"),\n",
    "    (\"https://civitai.com/api/download/models/160485\", \"mm-Stabilized_high.ckpt\"),\n",
    "]\n",
    "\n",
    "import subprocess\n",
    "from ipywidgets import interact_manual\n",
    "\n",
    "def aria2_download(uri, dirname):\n",
    "    uri, filename = get_fname(uri)\n",
    "    !set -o xtrace && aria2c --console-log-level=error -c -x 16 -s 16 -k 1M \"{uri}\" -d \"{dirname}\" -o \"{filename}\"\n",
    "    \n",
    "def git_clone(uri, dirname):\n",
    "    dirname = dirname / uri.split('/')[-1]\n",
    "    !set -o xtrace && git clone \"{uri}\" \"{dirname}\"\n",
    "    \n",
    "class Downloader:\n",
    "    def __init__(self, name, uris, download_dir, download_fn=aria2_download):\n",
    "        self.__name__ = name\n",
    "        self._uris = {get_fname(uri)[1]: uri for uri in uris}\n",
    "        self._download_dir = download_dir\n",
    "        self._download_fn = download_fn\n",
    "        \n",
    "    def run(self, **to_download):\n",
    "        for f in to_download:\n",
    "            if not to_download[f]:\n",
    "                continue\n",
    "            uri = self._uris[f]\n",
    "            self._download_fn(uri, self._download_dir)\n",
    "            \n",
    "    def interactive(self):\n",
    "        interact_manual(self.run, **{k: True for k in self._uris})\n",
    "        return self\n",
    "\n",
    "def get_fname(uri):\n",
    "    if isinstance(uri, tuple):\n",
    "        uri, filename = uri\n",
    "    else:\n",
    "        filename = uri.split('/')[-1]\n",
    "    return uri, filename\n",
    "\n",
    "MODEL_DOWNLOADER = Downloader(\"Models\", MODELS, MODELS_PATH).interactive()\n",
    "\n",
    "EMBEDDING_DOWNLOADER = Downloader(\"Embeddings\", EMBEDDINGS, EMBEDDINGS_PATH).interactive()\n",
    "\n",
    "EXTENSIONS_DOWNLOADER = Downloader(\"Extensions\", EXTENSIONS, EXTENSIONS_PATH, download_fn=git_clone).interactive()\n",
    "\n",
    "CONTROLNET_DOWNLOADER = Downloader(\"ControlNet\", CONTROLNET_MODELS, CONTROLNET_PATH).interactive()\n",
    "\n",
    "ANIMATEDIFF_DOWNLOADER = Downloader(\"AnimateDiff\", ANIMATEDIFF_MODULES, ANIMATEDIFF_PATH).interactive()"
   ]
  },
  {
   "cell_type": "code",
   "execution_count": 5,
   "id": "19e141fa",
   "metadata": {},
   "outputs": [
    {
     "ename": "ModuleNotFoundError",
     "evalue": "No module named 'vispy'",
     "output_type": "error",
     "traceback": [
      "\u001b[0;31m---------------------------------------------------------------------------\u001b[0m",
      "\u001b[0;31mModuleNotFoundError\u001b[0m                       Traceback (most recent call last)",
      "Cell \u001b[0;32mIn[5], line 1\u001b[0m\n\u001b[0;32m----> 1\u001b[0m \u001b[38;5;28;01mimport\u001b[39;00m \u001b[38;5;21;01mvispy\u001b[39;00m\n\u001b[1;32m      2\u001b[0m vispy\u001b[38;5;241m.\u001b[39muse(\u001b[38;5;124m'\u001b[39m\u001b[38;5;124megl\u001b[39m\u001b[38;5;124m'\u001b[39m)\n",
      "\u001b[0;31mModuleNotFoundError\u001b[0m: No module named 'vispy'"
     ]
    }
   ],
   "source": []
  },
  {
   "cell_type": "code",
   "execution_count": 2,
   "id": "1ae90e94-769e-4b7f-8d46-93afbd19d323",
   "metadata": {},
   "outputs": [],
   "source": [
    "import vispy\n",
    "vispy.use('egl')"
   ]
  },
  {
   "cell_type": "code",
   "execution_count": null,
   "id": "27255398",
   "metadata": {},
   "outputs": [],
   "source": []
  }
 ],
 "metadata": {
  "kernelspec": {
   "display_name": "Python 3 (ipykernel)",
   "language": "python",
   "name": "python3"
  },
  "language_info": {
   "codemirror_mode": {
    "name": "ipython",
    "version": 3
   },
   "file_extension": ".py",
   "mimetype": "text/x-python",
   "name": "python",
   "nbconvert_exporter": "python",
   "pygments_lexer": "ipython3",
   "version": "3.10.12"
  }
 },
 "nbformat": 4,
 "nbformat_minor": 5
}
